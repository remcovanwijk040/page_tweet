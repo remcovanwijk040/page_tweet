{
 "cells": [
  {
   "cell_type": "code",
   "execution_count": null,
   "metadata": {},
   "outputs": [
    {
     "data": {
      "text/plain": [
       "<haystack.core.pipeline.pipeline.Pipeline object at 0x0000024B5EC9C7D0>\n",
       "🚅 Components\n",
       "  - fetcher: LinkContentFetcher\n",
       "  - converter: HTMLToDocument\n",
       "  - prompt: PromptBuilder\n",
       "  - llm: OpenAIGenerator\n",
       "🛤️ Connections\n",
       "  - fetcher.streams -> converter.sources (List[ByteStream])\n",
       "  - converter.documents -> prompt.documents (List[Document])\n",
       "  - prompt.prompt -> llm.prompt (str)"
      ]
     },
     "execution_count": 43,
     "metadata": {},
     "output_type": "execute_result"
    }
   ],
   "source": [
    "from haystack import Pipeline\n",
    "from haystack.utils import Secret\n",
    "from haystack.components.fetchers import LinkContentFetcher\n",
    "from haystack.components.converters import HTMLToDocument\n",
    "from haystack.components.builders import PromptBuilder\n",
    "from haystack.components.generators import OpenAIGenerator\n",
    "\n",
    "from dotenv import load_dotenv\n",
    "import os\n",
    "\n",
    "load_dotenv()  # Load environment variables from .env file\n",
    "\n",
    "# Access the API key from the environment variable\n",
    "api_key = os.getenv(\"XAI_API_KEY\")\n",
    "\n",
    "fetcher = LinkContentFetcher()\n",
    "converter = HTMLToDocument()\n",
    "prompt_template = \"\"\"\n",
    "Jij bent een social media-assistent die informatie van websites kan halen en samenvatten. Gegeven een de documenten die je krijgt, is jouw taak om boeiende berichten te schrijven waarin je de belangrijkste punten uit de tekst verwerkt naar een interessante post voor X. ik heb een X account waar ik dagelijks updates geef over de laatste ontwikkelingen op het gebied van kunstmatige intelligentie, mijn posts gaan daarom altijd over dit onderwerp.\n",
    "De informatie die je aangeboden krijgt zijn altijd internetpagina's. Focus je voor het antwoordt alleen op de tekst van het artikel en niet op reacties onder een artikel.\n",
    "\n",
    "Thread Creëren: Als de inhoud meer dan 250 tekens lang is, maak dan een thread van meerdere berichten, waarbij elk bericht binnen de tekenlimiet blijft en er tegelijkertijd een samenhangend geheel wordt gevormd. De eerste post moet de aandacht van de lezer trekken zodat hij het draadje verder wil lezen.\n",
    "\n",
    "Aansprekende Stijl: Maak de berichten boeiend en gemakkelijk te begrijpen, gebruikmakend van een beknopte taal. Focus op het vastleggen van de belangrijkste inzichten, citaten of statistieken. Schrijf in het Nederlands.\n",
    "\n",
    "Hashtags & Vermeldingen: Waar relevant, voeg hashtags of vermeldingen toe om de zichtbaarheid te vergroten. Zorg ervoor dat de hashtags natuurlijk in de context passen.\n",
    "\n",
    "Link naar pagina: Voeg in de laatste post altijd de link naar de website toe die meegegeven is in de URLS fetcher.\n",
    "\n",
    "Volgens de inhoud van deze website:\n",
    "{% for document in documents %}\n",
    "  {{document.content}}\n",
    "{% endfor %}\n",
    "\n",
    "Antwoord:\n",
    "\n",
    "Eindig met {{link}}\n",
    "\"\"\"\n",
    "prompt_builder = PromptBuilder(template=prompt_template)\n",
    "\n",
    "llm = OpenAIGenerator(\n",
    "    api_key=Secret.from_env_var(\"XAI_API_KEY\"),\n",
    "    api_base_url=\"https://api.x.ai/v1\",\n",
    "    model=\"grok-beta\",\n",
    ")\n",
    "\n",
    "\n",
    "pipeline = Pipeline()\n",
    "pipeline.add_component(\"fetcher\", fetcher)\n",
    "pipeline.add_component(\"converter\", converter)\n",
    "pipeline.add_component(\"prompt\", prompt_builder)\n",
    "pipeline.add_component(\"llm\", llm)\n",
    "\n",
    "pipeline.connect(\"fetcher.streams\", \"converter.sources\")\n",
    "pipeline.connect(\"converter.documents\", \"prompt.documents\")\n",
    "pipeline.connect(\"prompt.prompt\", \"llm.prompt\")\n"
   ]
  },
  {
   "cell_type": "code",
   "execution_count": 44,
   "metadata": {},
   "outputs": [],
   "source": [
    "url = \"https://techcrunch.com/2024/11/08/chatgpt-told-2m-people-to-get-their-election-news-elsewhere-and-rejected-250k-deepfakes/\""
   ]
  },
  {
   "cell_type": "code",
   "execution_count": 45,
   "metadata": {},
   "outputs": [
    {
     "name": "stdout",
     "output_type": "stream",
     "text": [
      "**Post 1:**\n",
      "Kunstmatige intelligentie heeft een nieuwe rol in verkiezingen! 🤖 OpenAI's ChatGPT gaf aan 2 miljoen gebruikers de tip om elders hun verkiezingsnieuws te zoeken. #AI #Verkiezingen\n",
      "\n",
      "**Post 2:**\n",
      "ChatGPT stuurde gebruikers naar betrouwbare bronnen zoals Reuters en de Associated Press. Het gaf deze \"Ik ben maar AI, lees het echte nieuws\" reactie meer dan 2 miljoen keer op verkiezingsdag en de dag erna. 📰\n",
      "\n",
      "**Post 3:**\n",
      "In de maand voor de verkiezingen stuurde ChatGPT ongeveer een miljoen mensen naar CanIVote.org voor specifieke stemvragen. En, het weigerde 250.000 verzoeken om afbeeldingen van kandidaten te genereren. 🗳️ #Stemmen\n",
      "\n",
      "**Post 4:**\n",
      "Perplexity, een AI-zoekmachine, promootte zijn eigen verkiezingsinformatie hub, wat resulteerde in 4 miljoen paginaweergaven. Vergeleken met CNN's 67 miljoen unieke bezoekers op verkiezingsdag, is dat een indrukwekkende prestatie. 📈\n",
      "\n",
      "**Post 5:**\n",
      "Hoewel de aantallen niet in de buurt komen van de grote nieuwsorganisaties, is het significant dat miljoenen mensen AI-platforms vertrouwden voor hun verkiezingskennis. Dit toont de groeiende rol van AI in onze samenleving. #KunstmatigeIntelligentie\n",
      "\n",
      "**Post 6:**\n",
      "De AI-industrie is tevreden dat er geen grote fouten werden gemaakt tijdens deze verkiezingen. En gelukkig voor hen was de uitslag relatief duidelijk, met weinig ruimte voor discussie. Lees meer over de impact van AI op verkiezingen hier: ['https://techcrunch.com/2024/11/08/chatgpt-told-2m-people-to-get-their-election-news-elsewhere-and-rejected-250k-deepfakes/']\n"
     ]
    }
   ],
   "source": [
    "result = pipeline.run({\"fetcher\": {\"urls\": [url]},\n",
    "                       \"prompt\": {\"link\": [url]}})\n",
    "\n",
    "print(result[\"llm\"][\"replies\"][0])"
   ]
  }
 ],
 "metadata": {
  "kernelspec": {
   "display_name": ".venv",
   "language": "python",
   "name": "python3"
  },
  "language_info": {
   "codemirror_mode": {
    "name": "ipython",
    "version": 3
   },
   "file_extension": ".py",
   "mimetype": "text/x-python",
   "name": "python",
   "nbconvert_exporter": "python",
   "pygments_lexer": "ipython3",
   "version": "3.12.4"
  }
 },
 "nbformat": 4,
 "nbformat_minor": 2
}
